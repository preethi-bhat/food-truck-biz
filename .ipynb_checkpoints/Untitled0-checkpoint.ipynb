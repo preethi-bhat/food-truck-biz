{
 "metadata": {
  "name": "",
  "signature": "sha256:f8276f027a666b3b0fe485709e772a586f13506be240357c32ffe5422126a9f5"
 },
 "nbformat": 3,
 "nbformat_minor": 0,
 "worksheets": [
  {
   "cells": [
    {
     "cell_type": "code",
     "collapsed": false,
     "input": [
      "import json\n",
      "from pprint import pprint\n",
      "json_data=open('/Users/prbhat/git_repo/search-poc/crs-service/routes/car_sols_pgoods_5.json')\n",
      "\n",
      "simplifiedDataSet = []\n",
      "\n",
      "\n",
      "data = json.load(json_data)\n",
      "for d in data:\n",
      "    res = {}\n",
      "    res[\"pickupLocation\"] = \"DFW\"\n",
      "    res[\"opacityCode\"] = d[\"opacityCode\"]\n",
      "    print(d[\"opacityCode\"])\n",
      "    print res\n",
      "    \n",
      "json_data.close()\n",
      "        \n",
      "        \n",
      "        \n",
      "        \n",
      "        \n",
      "        \n",
      "        \n",
      "        "
     ],
     "language": "python",
     "metadata": {},
     "outputs": [
      {
       "output_type": "stream",
       "stream": "stdout",
       "text": [
        "Y\n",
        "Y\n",
        "Y\n",
        "Y\n",
        "Y\n"
       ]
      }
     ],
     "prompt_number": 7
    },
    {
     "cell_type": "code",
     "collapsed": false,
     "input": [],
     "language": "python",
     "metadata": {},
     "outputs": []
    }
   ],
   "metadata": {}
  }
 ]
}